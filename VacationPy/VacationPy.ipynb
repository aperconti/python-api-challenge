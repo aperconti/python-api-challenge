{
 "cells": [
  {
   "cell_type": "code",
   "execution_count": 1,
   "metadata": {},
   "outputs": [],
   "source": [
    "# Dependencies and Setup\n",
    "import matplotlib.pyplot as plt\n",
    "import pandas as pd\n",
    "import numpy as np\n",
    "import requests\n",
    "import gmaps\n",
    "import os\n",
    "\n",
    "# Import API key\n",
    "from config import g_key, p_key\n",
    "\n",
    "# Incorporated citipy to determine city based on latitude and longitude\n",
    "from citipy import citipy"
   ]
  },
  {
   "cell_type": "code",
   "execution_count": 2,
   "metadata": {},
   "outputs": [
    {
     "name": "stdout",
     "output_type": "stream",
     "text": [
      "               City    Lat     Lng  Max Temp  Humidity  Cloudiness  \\\n",
      "0            trelew -43.25  -65.31    64.256        31          45   \n",
      "1           ushuaia -54.80  -68.30    46.670        65          40   \n",
      "2           goundam  16.41   -3.67    84.236        62         100   \n",
      "3        butaritari   3.07  172.79    82.904        74           2   \n",
      "4           rikitea -23.12 -134.97    73.760        83          24   \n",
      "..              ...    ...     ...       ...       ...         ...   \n",
      "550           avera  33.19  -82.53    93.470        44           1   \n",
      "551  treinta y tres -33.23  -54.38    68.414        86           0   \n",
      "552            axim   4.87   -2.24    73.940        80          49   \n",
      "553             shu  43.60   73.76    69.314        41          14   \n",
      "554          uvalde  29.37  -99.77   100.274        27          40   \n",
      "\n",
      "     Wind Speed Country        Date  \n",
      "0          6.80      AR  1596488469  \n",
      "1          5.70      AR  1596488401  \n",
      "2          9.89      ML  1596488177  \n",
      "3          8.08      KI  1596488470  \n",
      "4          8.02      PF  1596488329  \n",
      "..          ...     ...         ...  \n",
      "550        3.10      US  1596488709  \n",
      "551        2.77      UY  1596488709  \n",
      "552        4.12      GH  1596488709  \n",
      "553        0.84      KZ  1596488709  \n",
      "554        2.60      US  1596488710  \n",
      "\n",
      "[555 rows x 9 columns]\n"
     ]
    }
   ],
   "source": [
    "# Load the csv exported in Part I to a DataFrame\n",
    "\n",
    "df = pd.read_csv(\"../WeatherPy/output_data/cities.csv\")\n",
    "print(df)\n"
   ]
  },
  {
   "cell_type": "code",
   "execution_count": 3,
   "metadata": {},
   "outputs": [],
   "source": [
    "# Configure gmaps with API key\n",
    "gmaps.configure(api_key=g_key)"
   ]
  },
  {
   "cell_type": "code",
   "execution_count": 4,
   "metadata": {},
   "outputs": [],
   "source": [
    "# Store 'Lat' and 'Lng' into  locations \n",
    "locations = df[[\"Lat\", \"Lng\"]].astype(float)\n",
    "\n",
    "# Convert humidity to float and store\n",
    "humidity = df[\"Humidity\"].astype(float)"
   ]
  },
  {
   "cell_type": "code",
   "execution_count": 5,
   "metadata": {
    "scrolled": true
   },
   "outputs": [
    {
     "data": {
      "application/vnd.jupyter.widget-view+json": {
       "model_id": "a274266d881e45e9904b71ee1e8f44dd",
       "version_major": 2,
       "version_minor": 0
      },
      "text/plain": [
       "Figure(layout=FigureLayout(height='420px'))"
      ]
     },
     "metadata": {},
     "output_type": "display_data"
    }
   ],
   "source": [
    "# heatmap layer\n",
    "fig = gmaps.figure()\n",
    "\n",
    "heat_layer = gmaps.heatmap_layer(locations, weights= humidity , \n",
    "                                 dissipating=False, max_intensity=100,\n",
    "                                 point_radius = 2)\n",
    "\n",
    "fig.add_layer(heat_layer)\n",
    "\n",
    "fig"
   ]
  },
  {
   "cell_type": "code",
   "execution_count": 6,
   "metadata": {},
   "outputs": [
    {
     "data": {
      "text/html": [
       "<div>\n",
       "<style scoped>\n",
       "    .dataframe tbody tr th:only-of-type {\n",
       "        vertical-align: middle;\n",
       "    }\n",
       "\n",
       "    .dataframe tbody tr th {\n",
       "        vertical-align: top;\n",
       "    }\n",
       "\n",
       "    .dataframe thead th {\n",
       "        text-align: right;\n",
       "    }\n",
       "</style>\n",
       "<table border=\"1\" class=\"dataframe\">\n",
       "  <thead>\n",
       "    <tr style=\"text-align: right;\">\n",
       "      <th></th>\n",
       "      <th>City</th>\n",
       "      <th>Lat</th>\n",
       "      <th>Lng</th>\n",
       "      <th>Max Temp</th>\n",
       "      <th>Humidity</th>\n",
       "      <th>Cloudiness</th>\n",
       "      <th>Wind Speed</th>\n",
       "      <th>Country</th>\n",
       "      <th>Date</th>\n",
       "    </tr>\n",
       "  </thead>\n",
       "  <tbody>\n",
       "    <tr>\n",
       "      <td>132</td>\n",
       "      <td>urubicha</td>\n",
       "      <td>-15.38</td>\n",
       "      <td>-62.95</td>\n",
       "      <td>92.516</td>\n",
       "      <td>22</td>\n",
       "      <td>0</td>\n",
       "      <td>1.02</td>\n",
       "      <td>BO</td>\n",
       "      <td>1596488524</td>\n",
       "    </tr>\n",
       "    <tr>\n",
       "      <td>175</td>\n",
       "      <td>aripuana</td>\n",
       "      <td>-9.17</td>\n",
       "      <td>-60.63</td>\n",
       "      <td>92.966</td>\n",
       "      <td>28</td>\n",
       "      <td>6</td>\n",
       "      <td>1.45</td>\n",
       "      <td>BR</td>\n",
       "      <td>1596488428</td>\n",
       "    </tr>\n",
       "    <tr>\n",
       "      <td>218</td>\n",
       "      <td>coxim</td>\n",
       "      <td>-18.51</td>\n",
       "      <td>-54.76</td>\n",
       "      <td>86.594</td>\n",
       "      <td>19</td>\n",
       "      <td>0</td>\n",
       "      <td>2.29</td>\n",
       "      <td>BR</td>\n",
       "      <td>1596488565</td>\n",
       "    </tr>\n",
       "    <tr>\n",
       "      <td>244</td>\n",
       "      <td>laguna</td>\n",
       "      <td>38.42</td>\n",
       "      <td>-121.42</td>\n",
       "      <td>96.278</td>\n",
       "      <td>27</td>\n",
       "      <td>1</td>\n",
       "      <td>2.36</td>\n",
       "      <td>US</td>\n",
       "      <td>1596488575</td>\n",
       "    </tr>\n",
       "    <tr>\n",
       "      <td>412</td>\n",
       "      <td>catalina</td>\n",
       "      <td>32.51</td>\n",
       "      <td>-110.92</td>\n",
       "      <td>107.276</td>\n",
       "      <td>16</td>\n",
       "      <td>0</td>\n",
       "      <td>0.89</td>\n",
       "      <td>US</td>\n",
       "      <td>1596488648</td>\n",
       "    </tr>\n",
       "    <tr>\n",
       "      <td>431</td>\n",
       "      <td>rio verde de mato grosso</td>\n",
       "      <td>-18.92</td>\n",
       "      <td>-54.84</td>\n",
       "      <td>84.398</td>\n",
       "      <td>23</td>\n",
       "      <td>0</td>\n",
       "      <td>2.26</td>\n",
       "      <td>BR</td>\n",
       "      <td>1596488655</td>\n",
       "    </tr>\n",
       "    <tr>\n",
       "      <td>529</td>\n",
       "      <td>pimenta bueno</td>\n",
       "      <td>-11.67</td>\n",
       "      <td>-61.19</td>\n",
       "      <td>93.884</td>\n",
       "      <td>24</td>\n",
       "      <td>0</td>\n",
       "      <td>1.91</td>\n",
       "      <td>BR</td>\n",
       "      <td>1596488488</td>\n",
       "    </tr>\n",
       "  </tbody>\n",
       "</table>\n",
       "</div>"
      ],
      "text/plain": [
       "                         City    Lat     Lng  Max Temp  Humidity  Cloudiness  \\\n",
       "132                  urubicha -15.38  -62.95    92.516        22           0   \n",
       "175                  aripuana  -9.17  -60.63    92.966        28           6   \n",
       "218                     coxim -18.51  -54.76    86.594        19           0   \n",
       "244                    laguna  38.42 -121.42    96.278        27           1   \n",
       "412                  catalina  32.51 -110.92   107.276        16           0   \n",
       "431  rio verde de mato grosso -18.92  -54.84    84.398        23           0   \n",
       "529             pimenta bueno -11.67  -61.19    93.884        24           0   \n",
       "\n",
       "     Wind Speed Country        Date  \n",
       "132        1.02      BO  1596488524  \n",
       "175        1.45      BR  1596488428  \n",
       "218        2.29      BR  1596488565  \n",
       "244        2.36      US  1596488575  \n",
       "412        0.89      US  1596488648  \n",
       "431        2.26      BR  1596488655  \n",
       "529        1.91      BR  1596488488  "
      ]
     },
     "execution_count": 6,
     "metadata": {},
     "output_type": "execute_result"
    }
   ],
   "source": [
    "# Narrow down the cities to fit weather conditions.\n",
    "ideal_vaca = df.loc[(df['Max Temp'] >= 80) & (df['Cloudiness'] <= 20) & (df['Wind Speed'] <= 3)& (df['Humidity'] <= 30)]\n",
    "ideal_vaca "
   ]
  },
  {
   "cell_type": "code",
   "execution_count": 7,
   "metadata": {},
   "outputs": [
    {
     "data": {
      "application/vnd.jupyter.widget-view+json": {
       "model_id": "a274266d881e45e9904b71ee1e8f44dd",
       "version_major": 2,
       "version_minor": 0
      },
      "text/plain": [
       "Figure(layout=FigureLayout(height='420px'))"
      ]
     },
     "metadata": {},
     "output_type": "display_data"
    }
   ],
   "source": [
    "def get_nearby_locations(params):\n",
    "    # base url\n",
    "    base_url = \"https://maps.googleapis.com/maps/api/place/nearbysearch/json\"\n",
    "\n",
    "    # run a request using our params dictionary\n",
    "    return requests.get(base_url, params=params).json()\n",
    "\n",
    "\n",
    "\n",
    "# geocoordinates   \n",
    "marker_locations = []\n",
    "hotel_names = []\n",
    "for idx, row in ideal_vaca.iterrows():\n",
    "    target_coordinates = f'{row[\"Lat\"]} {row[\"Lng\"]}'\n",
    "    target_search = 'hotel'\n",
    "    target_radius = 5000\n",
    "    target_type = \"hotel\"\n",
    "\n",
    "    # set up a parameters dictionary\n",
    "    params = {\n",
    "        \"location\": target_coordinates,\n",
    "        \"keyword\": target_search,\n",
    "        \"radius\": target_radius,\n",
    "        \"type\": target_type,\n",
    "        \"key\": p_key\n",
    "    }\n",
    "    \n",
    "    response = get_nearby_locations(params)\n",
    "\n",
    "    for result in response[\"results\"]:\n",
    "        try:\n",
    "            city_object = citipy.nearest_city(row[\"Lat\"], row[\"Lng\"])\n",
    "            lat_long_set = (result[\"geometry\"][\"location\"][\"lat\"], result[\"geometry\"][\"location\"][\"lng\"])\n",
    "            hotel_info = {\n",
    "                'name': result['name'],\n",
    "                'locations': lat_long_set,\n",
    "                'city': city_object.city_name,\n",
    "                'country': city_object.country_code.upper()\n",
    "            }\n",
    "            marker_locations.append(lat_long_set)\n",
    "            hotel_names.append(hotel_info)\n",
    "        except:\n",
    "            continue\n",
    "\n",
    "markers = gmaps.marker_layer(marker_locations)\n",
    "fig.add_layer(markers)\n",
    "fig\n"
   ]
  },
  {
   "cell_type": "code",
   "execution_count": 8,
   "metadata": {},
   "outputs": [
    {
     "data": {
      "application/vnd.jupyter.widget-view+json": {
       "model_id": "a274266d881e45e9904b71ee1e8f44dd",
       "version_major": 2,
       "version_minor": 0
      },
      "text/plain": [
       "Figure(layout=FigureLayout(height='420px'))"
      ]
     },
     "metadata": {},
     "output_type": "display_data"
    }
   ],
   "source": [
    "# adding pop up markers with hotel information \n",
    "\n",
    "hotel_details = [hotel_name['locations'] for hotel_name in hotel_names]\n",
    "info_box_template = \"\"\"\n",
    "<dl>\n",
    "<dt>Name</dt><dd>{name}</dd>\n",
    "<dt>city</dt><dd>{city}</dd><dt>country</dt><dd>{country}</dd>\n",
    "</dl>\n",
    "\"\"\"\n",
    "hotel_info = [info_box_template.format(**hotel_name) for hotel_name in hotel_names]\n",
    "\n",
    "marker_layer = gmaps.marker_layer(hotel_details, info_box_content= hotel_info)\n",
    "\n",
    "fig.add_layer(marker_layer)\n",
    "fig"
   ]
  },
  {
   "cell_type": "code",
   "execution_count": null,
   "metadata": {},
   "outputs": [],
   "source": []
  },
  {
   "cell_type": "code",
   "execution_count": null,
   "metadata": {},
   "outputs": [],
   "source": []
  }
 ],
 "metadata": {
  "kernelspec": {
   "display_name": "Python 3",
   "language": "python",
   "name": "python3"
  },
  "language_info": {
   "codemirror_mode": {
    "name": "ipython",
    "version": 3
   },
   "file_extension": ".py",
   "mimetype": "text/x-python",
   "name": "python",
   "nbconvert_exporter": "python",
   "pygments_lexer": "ipython3",
   "version": "3.7.6"
  }
 },
 "nbformat": 4,
 "nbformat_minor": 4
}
